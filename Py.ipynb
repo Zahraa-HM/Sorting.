{
  "nbformat": 4,
  "nbformat_minor": 0,
  "metadata": {
    "colab": {
      "provenance": [],
      "authorship_tag": "ABX9TyPzNgIgNw5dN2PCg8r6LcL0",
      "include_colab_link": true
    },
    "kernelspec": {
      "name": "python3",
      "display_name": "Python 3"
    },
    "language_info": {
      "name": "python"
    }
  },
  "cells": [
    {
      "cell_type": "markdown",
      "metadata": {
        "id": "view-in-github",
        "colab_type": "text"
      },
      "source": [
        "<a href=\"https://colab.research.google.com/github/Zahraa-HM/Sorting./blob/master/Py.ipynb\" target=\"_parent\"><img src=\"https://colab.research.google.com/assets/colab-badge.svg\" alt=\"Open In Colab\"/></a>"
      ]
    },
    {
      "cell_type": "code",
      "source": [
        "name=float(input(\"enter a number\"))\n",
        "print(name)"
      ],
      "metadata": {
        "colab": {
          "base_uri": "https://localhost:8080/"
        },
        "id": "G_o6rQ8MLCPp",
        "outputId": "a25ae309-d5a8-4948-e768-89a6c514cf8e"
      },
      "execution_count": null,
      "outputs": [
        {
          "output_type": "stream",
          "name": "stdout",
          "text": [
            "enter a number34.3\n",
            "34.3\n"
          ]
        }
      ]
    },
    {
      "cell_type": "code",
      "source": [
        "\n",
        "r=eval(input(\"enter the radius of the circle: \"))\n",
        "pi=3.14\n",
        "area= r*r*pi\n",
        "perimeter=2*r*pi\n",
        "print(\"the area of the circle :\",area)\n",
        "print(\"the perimeter of the circle :\",perimeter)"
      ],
      "metadata": {
        "colab": {
          "base_uri": "https://localhost:8080/"
        },
        "id": "JscZaQjSMUUV",
        "outputId": "8edef099-5bf9-42b5-a9fd-0b8f7c00dbad"
      },
      "execution_count": null,
      "outputs": [
        {
          "output_type": "stream",
          "name": "stdout",
          "text": [
            "enter the radius of the circle: 4\n",
            "the area of the circle : 50.24\n",
            "the perimeter of the circle : 25.12\n"
          ]
        }
      ]
    },
    {
      "cell_type": "code",
      "source": [
        "hight= float(input(\"Enter the hight: \"))\n",
        "width= float(input(\"Enter the width: \"))\n",
        "area=width*hight\n",
        "perimeter=2*(width+hight)\n",
        "print(\"The area of rectangle is \",area)\n",
        "print(\"The perimeter of rectangle is \", perimeter)"
      ],
      "metadata": {
        "colab": {
          "base_uri": "https://localhost:8080/"
        },
        "id": "EICc7KSwNljH",
        "outputId": "52634f5f-e43b-4c08-c860-19e4e9c7c477"
      },
      "execution_count": null,
      "outputs": [
        {
          "output_type": "stream",
          "name": "stdout",
          "text": [
            "Enter the hight: 3\n",
            "Enter the width: 5\n",
            "The area of rectangle is  15.0\n",
            "The perimeter of rectangle is  16.0\n"
          ]
        }
      ]
    },
    {
      "cell_type": "code",
      "source": [
        "cel=eval(input(\"enter the temp in celsius \"))\n",
        "fah=(cel*1.8)+32\n",
        "print(\"the temp in fahrenheit :\", fah)"
      ],
      "metadata": {
        "colab": {
          "base_uri": "https://localhost:8080/"
        },
        "id": "1MUDl8l_Pu-K",
        "outputId": "7a90f696-d065-45a0-caeb-98d0395db9ca"
      },
      "execution_count": null,
      "outputs": [
        {
          "output_type": "stream",
          "name": "stdout",
          "text": [
            "enter the temp in celsius 100\n",
            "the temp in fahrenheit : 212.0\n"
          ]
        }
      ]
    },
    {
      "cell_type": "code",
      "source": [
        "principal=eval(input(\"enter the principal amount: \"))\n",
        "rate=eval(input(\"enter the rate of interest\"))\n",
        "years=eval(input(\"enter the number of years\"))\n",
        "interest=(principal*rate*years)/100\n",
        "print(\"interest of loan: \", interest)"
      ],
      "metadata": {
        "colab": {
          "base_uri": "https://localhost:8080/"
        },
        "id": "BHIEXyO7RB5e",
        "outputId": "8f0910fb-e0cb-46d0-f580-28192eeec38d"
      },
      "execution_count": null,
      "outputs": [
        {
          "output_type": "stream",
          "name": "stdout",
          "text": [
            "enter the principal amount: 53\n",
            "enter the rate of interest24\n",
            "enter the number of years64\n",
            "interest of loan:  814.08\n"
          ]
        }
      ]
    },
    {
      "cell_type": "code",
      "source": [
        "x=8\n",
        "if x>0:\n",
        " print(\"hello\")\n",
        "else:\n",
        "  print(\"bye\")"
      ],
      "metadata": {
        "colab": {
          "base_uri": "https://localhost:8080/"
        },
        "id": "ZSqLc-QLTXE8",
        "outputId": "dcab2b2c-4203-4b97-a7d1-6f9777da05a1"
      },
      "execution_count": null,
      "outputs": [
        {
          "output_type": "stream",
          "name": "stdout",
          "text": [
            "hello\n"
          ]
        }
      ]
    },
    {
      "cell_type": "code",
      "source": [
        "age=eval(input(\"enter your age: \"))\n",
        "if(age>=18):\n",
        "   print(\"elegible for voting\")\n",
        "else:\n",
        "  print(\"not elegible for voting\")\n",
        "  print(\"end the program\")"
      ],
      "metadata": {
        "colab": {
          "base_uri": "https://localhost:8080/"
        },
        "id": "akLYSIWNT0oS",
        "outputId": "dbaef12f-a540-4266-869d-89dc5f89a5e8"
      },
      "execution_count": null,
      "outputs": [
        {
          "output_type": "stream",
          "name": "stdout",
          "text": [
            "enter your age: 9\n",
            "not elegible for voting\n",
            "end the program\n"
          ]
        }
      ]
    },
    {
      "cell_type": "code",
      "source": [
        "sum=0\n",
        "x=1\n",
        "while(x<10):\n",
        "   sum=sum+x\n",
        "   x=x+1\n",
        "print(sum)\n",
        "print(x)"
      ],
      "metadata": {
        "colab": {
          "base_uri": "https://localhost:8080/"
        },
        "id": "S8mYyH9dDLk7",
        "outputId": "6cf821b7-1b6a-439d-c12f-9b0c5efc0f91"
      },
      "execution_count": null,
      "outputs": [
        {
          "output_type": "stream",
          "name": "stdout",
          "text": [
            "45\n",
            "10\n"
          ]
        }
      ]
    },
    {
      "cell_type": "code",
      "source": [
        "x=[2,4,2,6,8]\n",
        "sum=0\n",
        "for i in x:\n",
        "  sum=sum+1\n",
        "print(sum)"
      ],
      "metadata": {
        "colab": {
          "base_uri": "https://localhost:8080/"
        },
        "id": "sVkckRGwLCB8",
        "outputId": "d4495742-5544-43fc-c64d-cd0bda9e4dcc"
      },
      "execution_count": null,
      "outputs": [
        {
          "output_type": "stream",
          "name": "stdout",
          "text": [
            "5\n"
          ]
        }
      ]
    },
    {
      "cell_type": "code",
      "source": [
        "\n",
        "for i in range(0,11):\n",
        "  print(i*i)"
      ],
      "metadata": {
        "colab": {
          "base_uri": "https://localhost:8080/"
        },
        "id": "TRkkWh7KLz0Q",
        "outputId": "e3f465e6-a993-41a8-a0ba-6916964822f5"
      },
      "execution_count": null,
      "outputs": [
        {
          "output_type": "stream",
          "name": "stdout",
          "text": [
            "0\n",
            "1\n",
            "4\n",
            "9\n",
            "16\n",
            "25\n",
            "36\n",
            "49\n",
            "64\n",
            "81\n",
            "100\n"
          ]
        }
      ]
    },
    {
      "cell_type": "code",
      "source": [
        "x=0\n",
        "while(x<10):\n",
        "  x=x+1\n",
        "  print(x*x)\n"
      ],
      "metadata": {
        "colab": {
          "base_uri": "https://localhost:8080/"
        },
        "id": "549b_DFbMSGt",
        "outputId": "74b587f2-715f-462f-c5ee-92d9d579084e"
      },
      "execution_count": null,
      "outputs": [
        {
          "output_type": "stream",
          "name": "stdout",
          "text": [
            "1\n",
            "4\n",
            "9\n",
            "16\n",
            "25\n",
            "36\n",
            "49\n",
            "64\n",
            "81\n",
            "100\n"
          ]
        }
      ]
    }
  ]
}